{
 "cells": [
  {
   "cell_type": "code",
   "execution_count": 257,
   "metadata": {},
   "outputs": [],
   "source": [
    "# Our usual libraries for working with data\n",
    "import pandas as pd\n",
    "import numpy as np\n",
    "\n",
    "pd.options.display.max_columns = 100\n",
    "# pd.options.display.max_rows = 100\n",
    "\n",
    "# Our usual libraries for visualizing data\n",
    "%matplotlib inline\n",
    "import matplotlib\n",
    "import matplotlib.pyplot as plt\n",
    "import matplotlib.colors as colors\n",
    "import seaborn as sb\n",
    "\n",
    "# Spatial libaries\n",
    "import geopandas as gpd\n",
    "import geoplot, contextily"
   ]
  },
  {
   "cell_type": "markdown",
   "metadata": {},
   "source": [
    "Research Question: What is the correlation between the CU Boulder population and active liquor licenses since 1991?\n",
    "Hypothesis: I think that there will be a positive correlation between the two, meaning that there will be more active liquor licenses as the CU student population grows. I also think that there might be a plateau when cannabis becomes legalized.\n",
    "Motivation: My motivation behind this is that I am a student at CU Boulder and it was interesting to read about how there was a massive increase in sales after coronavirus hit. After just taking a quick look at the data, there has been about an increase of 9,000 students since 1991, which is pretty big considering how Boulder is not a very big place. However, there is also a tradeoff for businesses since the population goes down significantly over the summer. So, with this in mind, I am curious about how many businesses have decided to get liquor licenses because college kids drink a lot.\n"
   ]
  },
  {
   "cell_type": "code",
   "execution_count": 121,
   "metadata": {},
   "outputs": [],
   "source": [
    "current_business_license_df = pd.read_csv('Active_Business_Licenses.csv')"
   ]
  },
  {
   "cell_type": "code",
   "execution_count": 168,
   "metadata": {},
   "outputs": [
    {
     "name": "stdout",
     "output_type": "stream",
     "text": [
      "(13656, 9)\n"
     ]
    },
    {
     "data": {
      "text/html": [
       "<div>\n",
       "<style scoped>\n",
       "    .dataframe tbody tr th:only-of-type {\n",
       "        vertical-align: middle;\n",
       "    }\n",
       "\n",
       "    .dataframe tbody tr th {\n",
       "        vertical-align: top;\n",
       "    }\n",
       "\n",
       "    .dataframe thead th {\n",
       "        text-align: right;\n",
       "    }\n",
       "</style>\n",
       "<table border=\"1\" class=\"dataframe\">\n",
       "  <thead>\n",
       "    <tr style=\"text-align: right;\">\n",
       "      <th></th>\n",
       "      <th>ObjectId</th>\n",
       "      <th>DOING BUSINESS AS</th>\n",
       "      <th>License_Effective_Date</th>\n",
       "      <th>NAICS_Code</th>\n",
       "      <th>NAICS_Description</th>\n",
       "      <th>Exempt</th>\n",
       "      <th>City</th>\n",
       "      <th>State</th>\n",
       "      <th>Zip_Code</th>\n",
       "    </tr>\n",
       "  </thead>\n",
       "  <tbody>\n",
       "    <tr>\n",
       "      <th>0</th>\n",
       "      <td>1</td>\n",
       "      <td>A &amp; E VENDING LLC</td>\n",
       "      <td>2018-04-15</td>\n",
       "      <td>'05-5900</td>\n",
       "      <td>MISC RETAIL</td>\n",
       "      <td>No</td>\n",
       "      <td>BOULDER</td>\n",
       "      <td>CO</td>\n",
       "      <td>80301</td>\n",
       "    </tr>\n",
       "    <tr>\n",
       "      <th>1</th>\n",
       "      <td>2</td>\n",
       "      <td>A &amp; M AUTOMOTIVE</td>\n",
       "      <td>1991-11-11</td>\n",
       "      <td>'10-7538</td>\n",
       "      <td>GENERAL AUTO REPAIR</td>\n",
       "      <td>No</td>\n",
       "      <td>BOULDER</td>\n",
       "      <td>CO</td>\n",
       "      <td>80304</td>\n",
       "    </tr>\n",
       "    <tr>\n",
       "      <th>2</th>\n",
       "      <td>3</td>\n",
       "      <td>A AND A QUALITY APPLIANCE</td>\n",
       "      <td>1990-07-01</td>\n",
       "      <td>'10-7629</td>\n",
       "      <td>ELECTRICAL REPAIR SHOPS</td>\n",
       "      <td>No</td>\n",
       "      <td>BOULDER</td>\n",
       "      <td>CO</td>\n",
       "      <td>80302</td>\n",
       "    </tr>\n",
       "    <tr>\n",
       "      <th>3</th>\n",
       "      <td>4</td>\n",
       "      <td>A BEAUTIFUL MEMORY</td>\n",
       "      <td>1995-01-01</td>\n",
       "      <td>'05-5963</td>\n",
       "      <td>HOME BASED &amp; DIRECT SALES</td>\n",
       "      <td>No</td>\n",
       "      <td>BOULDER</td>\n",
       "      <td>CO</td>\n",
       "      <td>80303</td>\n",
       "    </tr>\n",
       "    <tr>\n",
       "      <th>4</th>\n",
       "      <td>5</td>\n",
       "      <td>A CHANGE IN GREENERY INC</td>\n",
       "      <td>1989-03-01</td>\n",
       "      <td>'05-5963</td>\n",
       "      <td>HOME BASED &amp; DIRECT SALES</td>\n",
       "      <td>No</td>\n",
       "      <td>LOVELAND</td>\n",
       "      <td>CO</td>\n",
       "      <td>80538</td>\n",
       "    </tr>\n",
       "  </tbody>\n",
       "</table>\n",
       "</div>"
      ],
      "text/plain": [
       "   ObjectId          DOING BUSINESS AS License_Effective_Date NAICS_Code  \\\n",
       "0         1          A & E VENDING LLC             2018-04-15   '05-5900   \n",
       "1         2           A & M AUTOMOTIVE             1991-11-11   '10-7538   \n",
       "2         3  A AND A QUALITY APPLIANCE             1990-07-01   '10-7629   \n",
       "3         4         A BEAUTIFUL MEMORY             1995-01-01   '05-5963   \n",
       "4         5   A CHANGE IN GREENERY INC             1989-03-01   '05-5963   \n",
       "\n",
       "           NAICS_Description Exempt      City State Zip_Code  \n",
       "0                MISC RETAIL     No   BOULDER    CO    80301  \n",
       "1        GENERAL AUTO REPAIR     No   BOULDER    CO    80304  \n",
       "2    ELECTRICAL REPAIR SHOPS     No   BOULDER    CO    80302  \n",
       "3  HOME BASED & DIRECT SALES     No   BOULDER    CO    80303  \n",
       "4  HOME BASED & DIRECT SALES     No  LOVELAND    CO    80538  "
      ]
     },
     "execution_count": 168,
     "metadata": {},
     "output_type": "execute_result"
    }
   ],
   "source": [
    "print(current_business_license_df.shape)\n",
    "current_business_license_df['City'] = current_business_license_df['City'].str.upper()\n",
    "current_business_license_df.sort_values(by=['City', 'NAICS_Description'])  \n",
    "current_business_license_df.head()\n",
    "\n"
   ]
  },
  {
   "cell_type": "code",
   "execution_count": 123,
   "metadata": {},
   "outputs": [],
   "source": [
    "current_business_license_df = current_business_license_df.rename(columns={'DBA_Name': 'DOING BUSINESS AS'})"
   ]
  },
  {
   "cell_type": "code",
   "execution_count": 124,
   "metadata": {},
   "outputs": [],
   "source": [
    "current_business_license_df = current_business_license_df.replace({'###############################################################################################################################################################################################################################################################':np.NaN})"
   ]
  },
  {
   "cell_type": "code",
   "execution_count": 125,
   "metadata": {},
   "outputs": [],
   "source": [
    "current_business_license_df['License_Effective_Date'] = pd.to_datetime(current_business_license_df['License_Effective_Date'])"
   ]
  },
  {
   "cell_type": "markdown",
   "metadata": {},
   "source": [
    "My current_business_license_df contains a list of businesses that have licenses. This data really is not that helpful for me since a lot of them I will need to cut out, but it does say when the license became effective. In addition to liquor stores, I will need to find restaurants that have liquor licenses."
   ]
  },
  {
   "cell_type": "code",
   "execution_count": 126,
   "metadata": {},
   "outputs": [],
   "source": [
    "liquor_license_df = pd.read_csv('Liquor Licenses csv11.2.2020_0.csv')"
   ]
  },
  {
   "cell_type": "code",
   "execution_count": 127,
   "metadata": {},
   "outputs": [],
   "source": [
    "new_liquor_license_df = liquor_license_df.drop([0],axis=0)"
   ]
  },
  {
   "cell_type": "code",
   "execution_count": 128,
   "metadata": {},
   "outputs": [],
   "source": [
    "new_header = new_liquor_license_df.iloc[0]\n",
    "new_liquor_license_df=liquor_license_df[1:]\n",
    "new_liquor_license_df.columns = new_header"
   ]
  },
  {
   "cell_type": "code",
   "execution_count": 129,
   "metadata": {},
   "outputs": [],
   "source": [
    "new_liquor_license_df = new_liquor_license_df.drop([1])"
   ]
  },
  {
   "cell_type": "code",
   "execution_count": 130,
   "metadata": {},
   "outputs": [
    {
     "data": {
      "text/html": [
       "<div>\n",
       "<style scoped>\n",
       "    .dataframe tbody tr th:only-of-type {\n",
       "        vertical-align: middle;\n",
       "    }\n",
       "\n",
       "    .dataframe tbody tr th {\n",
       "        vertical-align: top;\n",
       "    }\n",
       "\n",
       "    .dataframe thead th {\n",
       "        text-align: right;\n",
       "    }\n",
       "</style>\n",
       "<table border=\"1\" class=\"dataframe\">\n",
       "  <thead>\n",
       "    <tr style=\"text-align: right;\">\n",
       "      <th>1</th>\n",
       "      <th>LICENSEE NAME</th>\n",
       "      <th>DOING BUSINESS AS</th>\n",
       "      <th>LICENSE #</th>\n",
       "      <th>LICENSE TYPE</th>\n",
       "      <th>EXPIRES</th>\n",
       "      <th>STREET ADDRESS</th>\n",
       "      <th>CITY</th>\n",
       "      <th>STATE</th>\n",
       "      <th>ZIP</th>\n",
       "    </tr>\n",
       "  </thead>\n",
       "  <tbody>\n",
       "    <tr>\n",
       "      <th>2</th>\n",
       "      <td>7908 ASPEN</td>\n",
       "      <td>\"7908\"</td>\n",
       "      <td>NaN</td>\n",
       "      <td>Sidewalk Service Area</td>\n",
       "      <td>NaN</td>\n",
       "      <td>415 EAST HYMAN AVENUE</td>\n",
       "      <td>Aspen</td>\n",
       "      <td>CO</td>\n",
       "      <td>81611</td>\n",
       "    </tr>\n",
       "    <tr>\n",
       "      <th>3</th>\n",
       "      <td>7908 ASPEN LLC</td>\n",
       "      <td>\"7908\"</td>\n",
       "      <td>03-09732</td>\n",
       "      <td>Hotel &amp; Restaurant (city)</td>\n",
       "      <td>05/01/2021</td>\n",
       "      <td>415 EAST HYMAN AVENUE</td>\n",
       "      <td>Aspen</td>\n",
       "      <td>CO</td>\n",
       "      <td>81611</td>\n",
       "    </tr>\n",
       "    <tr>\n",
       "      <th>4</th>\n",
       "      <td>PARK THEATER MALL LLC</td>\n",
       "      <td>\"THE SLAB\" &amp; PARK THEATRE CAFE</td>\n",
       "      <td>03-01524</td>\n",
       "      <td>Tavern (city)</td>\n",
       "      <td>06/23/2021</td>\n",
       "      <td>116 EAST ELKHORN AVENUE</td>\n",
       "      <td>Estes Park</td>\n",
       "      <td>CO</td>\n",
       "      <td>80517</td>\n",
       "    </tr>\n",
       "    <tr>\n",
       "      <th>5</th>\n",
       "      <td>HORNS MANAGEMENT LLC</td>\n",
       "      <td>#1 THE OLD FIREHOUSE</td>\n",
       "      <td>03-03332</td>\n",
       "      <td>Tavern (city)</td>\n",
       "      <td>10/05/2020</td>\n",
       "      <td>0030 B JACKSON ST</td>\n",
       "      <td>South Fork</td>\n",
       "      <td>CO</td>\n",
       "      <td>81154</td>\n",
       "    </tr>\n",
       "    <tr>\n",
       "      <th>6</th>\n",
       "      <td>#VYBE LLC</td>\n",
       "      <td>#VYBE</td>\n",
       "      <td>03-07942</td>\n",
       "      <td>Tavern (city)</td>\n",
       "      <td>06/25/2021</td>\n",
       "      <td>1027 NORTH BROADWAY</td>\n",
       "      <td>Denver</td>\n",
       "      <td>CO</td>\n",
       "      <td>80203</td>\n",
       "    </tr>\n",
       "  </tbody>\n",
       "</table>\n",
       "</div>"
      ],
      "text/plain": [
       "1          LICENSEE NAME               DOING BUSINESS AS LICENSE #  \\\n",
       "2             7908 ASPEN                          \"7908\"       NaN   \n",
       "3         7908 ASPEN LLC                          \"7908\"  03-09732   \n",
       "4  PARK THEATER MALL LLC  \"THE SLAB\" & PARK THEATRE CAFE  03-01524   \n",
       "5   HORNS MANAGEMENT LLC            #1 THE OLD FIREHOUSE  03-03332   \n",
       "6              #VYBE LLC                           #VYBE  03-07942   \n",
       "\n",
       "1               LICENSE TYPE     EXPIRES           STREET ADDRESS        CITY  \\\n",
       "2      Sidewalk Service Area         NaN    415 EAST HYMAN AVENUE       Aspen   \n",
       "3  Hotel & Restaurant (city)  05/01/2021    415 EAST HYMAN AVENUE       Aspen   \n",
       "4              Tavern (city)  06/23/2021  116 EAST ELKHORN AVENUE  Estes Park   \n",
       "5              Tavern (city)  10/05/2020        0030 B JACKSON ST  South Fork   \n",
       "6              Tavern (city)  06/25/2021      1027 NORTH BROADWAY      Denver   \n",
       "\n",
       "1 STATE    ZIP  \n",
       "2    CO  81611  \n",
       "3    CO  81611  \n",
       "4    CO  80517  \n",
       "5    CO  81154  \n",
       "6    CO  80203  "
      ]
     },
     "execution_count": 130,
     "metadata": {},
     "output_type": "execute_result"
    }
   ],
   "source": [
    "new_liquor_license_df.head()"
   ]
  },
  {
   "cell_type": "code",
   "execution_count": 132,
   "metadata": {},
   "outputs": [],
   "source": [
    "new_liquor_license_df['EXPIRES'] = pd.to_datetime(new_liquor_license_df['EXPIRES'])"
   ]
  },
  {
   "cell_type": "code",
   "execution_count": 134,
   "metadata": {},
   "outputs": [
    {
     "data": {
      "text/html": [
       "<div>\n",
       "<style scoped>\n",
       "    .dataframe tbody tr th:only-of-type {\n",
       "        vertical-align: middle;\n",
       "    }\n",
       "\n",
       "    .dataframe tbody tr th {\n",
       "        vertical-align: top;\n",
       "    }\n",
       "\n",
       "    .dataframe thead th {\n",
       "        text-align: right;\n",
       "    }\n",
       "</style>\n",
       "<table border=\"1\" class=\"dataframe\">\n",
       "  <thead>\n",
       "    <tr style=\"text-align: right;\">\n",
       "      <th>1</th>\n",
       "      <th>LICENSEE NAME</th>\n",
       "      <th>DOING BUSINESS AS</th>\n",
       "      <th>LICENSE #</th>\n",
       "      <th>LICENSE TYPE</th>\n",
       "      <th>EXPIRES</th>\n",
       "      <th>STREET ADDRESS</th>\n",
       "      <th>CITY</th>\n",
       "      <th>STATE</th>\n",
       "      <th>ZIP</th>\n",
       "    </tr>\n",
       "  </thead>\n",
       "  <tbody>\n",
       "    <tr>\n",
       "      <th>1514</th>\n",
       "      <td>EPG ENTERPRISES INC</td>\n",
       "      <td>BASELINE LIQUOR</td>\n",
       "      <td>03-13465</td>\n",
       "      <td>Liquor Store (city)</td>\n",
       "      <td>2021-06-23</td>\n",
       "      <td>2750 BASELINE ROAD</td>\n",
       "      <td>Boulder</td>\n",
       "      <td>CO</td>\n",
       "      <td>80305</td>\n",
       "    </tr>\n",
       "  </tbody>\n",
       "</table>\n",
       "</div>"
      ],
      "text/plain": [
       "1           LICENSEE NAME DOING BUSINESS AS LICENSE #         LICENSE TYPE  \\\n",
       "1514  EPG ENTERPRISES INC   BASELINE LIQUOR  03-13465  Liquor Store (city)   \n",
       "\n",
       "1       EXPIRES      STREET ADDRESS     CITY STATE    ZIP  \n",
       "1514 2021-06-23  2750 BASELINE ROAD  Boulder    CO  80305  "
      ]
     },
     "execution_count": 134,
     "metadata": {},
     "output_type": "execute_result"
    }
   ],
   "source": [
    "new_liquor_license_df.loc[new_liquor_license_df['DOING BUSINESS AS'] == 'BASELINE LIQUOR']"
   ]
  },
  {
   "cell_type": "markdown",
   "metadata": {},
   "source": [
    "new_liquor_license_df lists all of the businesses that have a liquor license in Colorado. I just cleaned up the data a little to make it easier to combine with current_business_license_df. I also wanted to double check if it is by title. Since Baseline Liquor is near my house, I was just testing to see if the names are what I would expect. "
   ]
  },
  {
   "cell_type": "code",
   "execution_count": 135,
   "metadata": {},
   "outputs": [],
   "source": [
    "combined_liquor_business_df = pd.merge(current_business_license_df, new_liquor_license_df, how = 'inner', on = 'DOING BUSINESS AS')"
   ]
  },
  {
   "cell_type": "code",
   "execution_count": 170,
   "metadata": {},
   "outputs": [],
   "source": [
    "#combined_liquor_business_df.tail()"
   ]
  },
  {
   "cell_type": "code",
   "execution_count": 139,
   "metadata": {},
   "outputs": [],
   "source": [
    "combined_liquor_business_df['CITY'] = current_business_license_df['City'].str.upper()"
   ]
  },
  {
   "cell_type": "code",
   "execution_count": 141,
   "metadata": {},
   "outputs": [],
   "source": [
    "combined_boulder_df = combined_liquor_business_df.loc[combined_liquor_business_df['CITY'] == 'BOULDER']"
   ]
  },
  {
   "cell_type": "code",
   "execution_count": 142,
   "metadata": {},
   "outputs": [
    {
     "data": {
      "text/html": [
       "<div>\n",
       "<style scoped>\n",
       "    .dataframe tbody tr th:only-of-type {\n",
       "        vertical-align: middle;\n",
       "    }\n",
       "\n",
       "    .dataframe tbody tr th {\n",
       "        vertical-align: top;\n",
       "    }\n",
       "\n",
       "    .dataframe thead th {\n",
       "        text-align: right;\n",
       "    }\n",
       "</style>\n",
       "<table border=\"1\" class=\"dataframe\">\n",
       "  <thead>\n",
       "    <tr style=\"text-align: right;\">\n",
       "      <th></th>\n",
       "      <th>ObjectId</th>\n",
       "      <th>DOING BUSINESS AS</th>\n",
       "      <th>License_Effective_Date</th>\n",
       "      <th>NAICS_Code</th>\n",
       "      <th>NAICS_Description</th>\n",
       "      <th>Exempt</th>\n",
       "      <th>City</th>\n",
       "      <th>State</th>\n",
       "      <th>Zip_Code</th>\n",
       "      <th>LICENSEE NAME</th>\n",
       "      <th>LICENSE #</th>\n",
       "      <th>LICENSE TYPE</th>\n",
       "      <th>EXPIRES</th>\n",
       "      <th>STREET ADDRESS</th>\n",
       "      <th>CITY</th>\n",
       "      <th>STATE</th>\n",
       "      <th>ZIP</th>\n",
       "    </tr>\n",
       "  </thead>\n",
       "  <tbody>\n",
       "    <tr>\n",
       "      <th>0</th>\n",
       "      <td>36</td>\n",
       "      <td>A-OK LIQUOR</td>\n",
       "      <td>2015-03-16</td>\n",
       "      <td>'05-5921</td>\n",
       "      <td>LIQUOR STORES</td>\n",
       "      <td>No</td>\n",
       "      <td>BOULDER</td>\n",
       "      <td>CO</td>\n",
       "      <td>80301</td>\n",
       "      <td>JW RAON LLC</td>\n",
       "      <td>03-04904</td>\n",
       "      <td>Liquor Store (city)</td>\n",
       "      <td>2021-08-24</td>\n",
       "      <td>2690 28TH STREET UNIT A</td>\n",
       "      <td>BOULDER</td>\n",
       "      <td>CO</td>\n",
       "      <td>80301</td>\n",
       "    </tr>\n",
       "    <tr>\n",
       "      <th>1</th>\n",
       "      <td>292</td>\n",
       "      <td>ABO'S PIZZA</td>\n",
       "      <td>2013-06-01</td>\n",
       "      <td>'02-5800</td>\n",
       "      <td>EATING &amp; DRINKING PLACES</td>\n",
       "      <td>No</td>\n",
       "      <td>BOULDER</td>\n",
       "      <td>CO</td>\n",
       "      <td>80304</td>\n",
       "      <td>ABO'S PIZZA WILDCAT INC</td>\n",
       "      <td>03-00999</td>\n",
       "      <td>Beer &amp; Wine (county)</td>\n",
       "      <td>2021-04-08</td>\n",
       "      <td>2229 WILDCAT RESERVE PKWY #A-1</td>\n",
       "      <td>BOULDER</td>\n",
       "      <td>CO</td>\n",
       "      <td>80129</td>\n",
       "    </tr>\n",
       "    <tr>\n",
       "      <th>2</th>\n",
       "      <td>292</td>\n",
       "      <td>ABO'S PIZZA</td>\n",
       "      <td>2013-06-01</td>\n",
       "      <td>'02-5800</td>\n",
       "      <td>EATING &amp; DRINKING PLACES</td>\n",
       "      <td>No</td>\n",
       "      <td>BOULDER</td>\n",
       "      <td>CO</td>\n",
       "      <td>80304</td>\n",
       "      <td>SANABRIA ENTERPRISE INC</td>\n",
       "      <td>02-84851-0002</td>\n",
       "      <td>Hotel &amp; Restaurant (city)</td>\n",
       "      <td>2021-06-08</td>\n",
       "      <td>1355 SOUTH BOULDER ROAD C2</td>\n",
       "      <td>BOULDER</td>\n",
       "      <td>CO</td>\n",
       "      <td>800272312</td>\n",
       "    </tr>\n",
       "    <tr>\n",
       "      <th>3</th>\n",
       "      <td>292</td>\n",
       "      <td>ABO'S PIZZA</td>\n",
       "      <td>2013-06-01</td>\n",
       "      <td>'02-5800</td>\n",
       "      <td>EATING &amp; DRINKING PLACES</td>\n",
       "      <td>No</td>\n",
       "      <td>BOULDER</td>\n",
       "      <td>CO</td>\n",
       "      <td>80304</td>\n",
       "      <td>SANABRIA ENTERPRISE INC</td>\n",
       "      <td>02-84851-0004</td>\n",
       "      <td>Hotel &amp; Restaurant (city)</td>\n",
       "      <td>2021-03-29</td>\n",
       "      <td>720 AUSTIN RD #104</td>\n",
       "      <td>BOULDER</td>\n",
       "      <td>CO</td>\n",
       "      <td>805162422</td>\n",
       "    </tr>\n",
       "    <tr>\n",
       "      <th>5</th>\n",
       "      <td>293</td>\n",
       "      <td>ABO'S PIZZA</td>\n",
       "      <td>1997-02-07</td>\n",
       "      <td>'02-5812</td>\n",
       "      <td>EATING PLACES</td>\n",
       "      <td>No</td>\n",
       "      <td>BOULDER</td>\n",
       "      <td>CO</td>\n",
       "      <td>80305</td>\n",
       "      <td>SANABRIA ENTERPRISE INC</td>\n",
       "      <td>02-84851-0002</td>\n",
       "      <td>Hotel &amp; Restaurant (city)</td>\n",
       "      <td>2021-06-08</td>\n",
       "      <td>1355 SOUTH BOULDER ROAD C2</td>\n",
       "      <td>BOULDER</td>\n",
       "      <td>CO</td>\n",
       "      <td>800272312</td>\n",
       "    </tr>\n",
       "  </tbody>\n",
       "</table>\n",
       "</div>"
      ],
      "text/plain": [
       "   ObjectId DOING BUSINESS AS License_Effective_Date NAICS_Code  \\\n",
       "0        36       A-OK LIQUOR             2015-03-16   '05-5921   \n",
       "1       292       ABO'S PIZZA             2013-06-01   '02-5800   \n",
       "2       292       ABO'S PIZZA             2013-06-01   '02-5800   \n",
       "3       292       ABO'S PIZZA             2013-06-01   '02-5800   \n",
       "5       293       ABO'S PIZZA             1997-02-07   '02-5812   \n",
       "\n",
       "          NAICS_Description Exempt     City State Zip_Code  \\\n",
       "0             LIQUOR STORES     No  BOULDER    CO    80301   \n",
       "1  EATING & DRINKING PLACES     No  BOULDER    CO    80304   \n",
       "2  EATING & DRINKING PLACES     No  BOULDER    CO    80304   \n",
       "3  EATING & DRINKING PLACES     No  BOULDER    CO    80304   \n",
       "5             EATING PLACES     No  BOULDER    CO    80305   \n",
       "\n",
       "             LICENSEE NAME      LICENSE #               LICENSE TYPE  \\\n",
       "0              JW RAON LLC       03-04904        Liquor Store (city)   \n",
       "1  ABO'S PIZZA WILDCAT INC       03-00999       Beer & Wine (county)   \n",
       "2  SANABRIA ENTERPRISE INC  02-84851-0002  Hotel & Restaurant (city)   \n",
       "3  SANABRIA ENTERPRISE INC  02-84851-0004  Hotel & Restaurant (city)   \n",
       "5  SANABRIA ENTERPRISE INC  02-84851-0002  Hotel & Restaurant (city)   \n",
       "\n",
       "     EXPIRES                  STREET ADDRESS     CITY STATE        ZIP  \n",
       "0 2021-08-24         2690 28TH STREET UNIT A  BOULDER    CO      80301  \n",
       "1 2021-04-08  2229 WILDCAT RESERVE PKWY #A-1  BOULDER    CO      80129  \n",
       "2 2021-06-08      1355 SOUTH BOULDER ROAD C2  BOULDER    CO  800272312  \n",
       "3 2021-03-29              720 AUSTIN RD #104  BOULDER    CO  805162422  \n",
       "5 2021-06-08      1355 SOUTH BOULDER ROAD C2  BOULDER    CO  800272312  "
      ]
     },
     "execution_count": 142,
     "metadata": {},
     "output_type": "execute_result"
    }
   ],
   "source": [
    "combined_boulder_df.head()"
   ]
  },
  {
   "cell_type": "markdown",
   "metadata": {},
   "source": [
    "combined_boulder_df is the information just for liquor licenses in Boulder. Even though there are two categories for city, I went through and checked the addresses to confirm that the CITY column was actually correct for places in Boulder. "
   ]
  },
  {
   "cell_type": "code",
   "execution_count": 143,
   "metadata": {},
   "outputs": [
    {
     "name": "stderr",
     "output_type": "stream",
     "text": [
      "C:\\Users\\jomcf\\Anaconda3\\lib\\site-packages\\ipykernel_launcher.py:1: SettingWithCopyWarning: \n",
      "A value is trying to be set on a copy of a slice from a DataFrame.\n",
      "Try using .loc[row_indexer,col_indexer] = value instead\n",
      "\n",
      "See the caveats in the documentation: https://pandas.pydata.org/pandas-docs/stable/user_guide/indexing.html#returning-a-view-versus-a-copy\n",
      "  \"\"\"Entry point for launching an IPython kernel.\n"
     ]
    }
   ],
   "source": [
    "combined_boulder_df['Year'] = pd.DatetimeIndex(combined_boulder_df['License_Effective_Date']).year"
   ]
  },
  {
   "cell_type": "code",
   "execution_count": 171,
   "metadata": {},
   "outputs": [
    {
     "data": {
      "text/html": [
       "<div>\n",
       "<style scoped>\n",
       "    .dataframe tbody tr th:only-of-type {\n",
       "        vertical-align: middle;\n",
       "    }\n",
       "\n",
       "    .dataframe tbody tr th {\n",
       "        vertical-align: top;\n",
       "    }\n",
       "\n",
       "    .dataframe thead th {\n",
       "        text-align: right;\n",
       "    }\n",
       "</style>\n",
       "<table border=\"1\" class=\"dataframe\">\n",
       "  <thead>\n",
       "    <tr style=\"text-align: right;\">\n",
       "      <th></th>\n",
       "      <th>ObjectId</th>\n",
       "      <th>DOING BUSINESS AS</th>\n",
       "      <th>License_Effective_Date</th>\n",
       "      <th>NAICS_Code</th>\n",
       "      <th>NAICS_Description</th>\n",
       "      <th>Exempt</th>\n",
       "      <th>City</th>\n",
       "      <th>State</th>\n",
       "      <th>Zip_Code</th>\n",
       "      <th>LICENSEE NAME</th>\n",
       "      <th>LICENSE #</th>\n",
       "      <th>LICENSE TYPE</th>\n",
       "      <th>EXPIRES</th>\n",
       "      <th>STREET ADDRESS</th>\n",
       "      <th>CITY</th>\n",
       "      <th>STATE</th>\n",
       "      <th>ZIP</th>\n",
       "      <th>Year</th>\n",
       "    </tr>\n",
       "  </thead>\n",
       "  <tbody>\n",
       "    <tr>\n",
       "      <th>364</th>\n",
       "      <td>13371</td>\n",
       "      <td>WHOLE FOODS MARKET</td>\n",
       "      <td>1998-02-01</td>\n",
       "      <td>'01-5411</td>\n",
       "      <td>GROCERY STORES</td>\n",
       "      <td>No</td>\n",
       "      <td>BOULDER</td>\n",
       "      <td>CO</td>\n",
       "      <td>80301</td>\n",
       "      <td>WHOLE FOODS MARKET ROCKY MOUNTAIN / SOUTHWEST LP</td>\n",
       "      <td>04-00927</td>\n",
       "      <td>Fermented Malt Beverage Off (city)</td>\n",
       "      <td>2021-11-26</td>\n",
       "      <td>2905 PEARL STREET</td>\n",
       "      <td>BOULDER</td>\n",
       "      <td>CO</td>\n",
       "      <td>80301</td>\n",
       "      <td>1998</td>\n",
       "    </tr>\n",
       "    <tr>\n",
       "      <th>368</th>\n",
       "      <td>13371</td>\n",
       "      <td>WHOLE FOODS MARKET</td>\n",
       "      <td>1998-02-01</td>\n",
       "      <td>'01-5411</td>\n",
       "      <td>GROCERY STORES</td>\n",
       "      <td>No</td>\n",
       "      <td>BOULDER</td>\n",
       "      <td>CO</td>\n",
       "      <td>80301</td>\n",
       "      <td>WHOLE FOODS MARKET ROCKY MOUNTAIN/ SOUTHWEST L.P.</td>\n",
       "      <td>04-00786</td>\n",
       "      <td>Fermented Malt Beverage Off (city)</td>\n",
       "      <td>2021-06-19</td>\n",
       "      <td>7635 NORTH ACADEMY BOULEVARD</td>\n",
       "      <td>BOULDER</td>\n",
       "      <td>CO</td>\n",
       "      <td>80920</td>\n",
       "      <td>1998</td>\n",
       "    </tr>\n",
       "    <tr>\n",
       "      <th>374</th>\n",
       "      <td>13371</td>\n",
       "      <td>WHOLE FOODS MARKET</td>\n",
       "      <td>1998-02-01</td>\n",
       "      <td>'01-5411</td>\n",
       "      <td>GROCERY STORES</td>\n",
       "      <td>No</td>\n",
       "      <td>BOULDER</td>\n",
       "      <td>CO</td>\n",
       "      <td>80301</td>\n",
       "      <td>WHOLE FOODS MARKET ROCKY MOUNTAIN/SOUTHWEST LP</td>\n",
       "      <td>04-00882</td>\n",
       "      <td>Fermented Malt Beverage Off (city)</td>\n",
       "      <td>2021-09-27</td>\n",
       "      <td>5155 SOUTH WADSWORTH BOULEVARD</td>\n",
       "      <td>BOULDER</td>\n",
       "      <td>CO</td>\n",
       "      <td>80123</td>\n",
       "      <td>1998</td>\n",
       "    </tr>\n",
       "    <tr>\n",
       "      <th>380</th>\n",
       "      <td>13537</td>\n",
       "      <td>WILD WOODS BREWERY INC</td>\n",
       "      <td>2012-08-01</td>\n",
       "      <td>'10-2082</td>\n",
       "      <td>MALT BEVERAGES MFG</td>\n",
       "      <td>No</td>\n",
       "      <td>BOULDER</td>\n",
       "      <td>CO</td>\n",
       "      <td>80301</td>\n",
       "      <td>WILD WOODS BREWERY INC</td>\n",
       "      <td>28-73934-0001</td>\n",
       "      <td>Wholesale Beer (malt liquor)</td>\n",
       "      <td>2021-03-31</td>\n",
       "      <td>5460 CONESTOGA CT</td>\n",
       "      <td>BOULDER</td>\n",
       "      <td>CO</td>\n",
       "      <td>803012724</td>\n",
       "      <td>2012</td>\n",
       "    </tr>\n",
       "    <tr>\n",
       "      <th>387</th>\n",
       "      <td>13647</td>\n",
       "      <td>iPIE</td>\n",
       "      <td>2018-03-03</td>\n",
       "      <td>'02-5812</td>\n",
       "      <td>EATING PLACES</td>\n",
       "      <td>No</td>\n",
       "      <td>BROOMFIELD</td>\n",
       "      <td>CO</td>\n",
       "      <td>80020</td>\n",
       "      <td>INFINITUS, INC</td>\n",
       "      <td>03-01070</td>\n",
       "      <td>Beer &amp; Wine (city)</td>\n",
       "      <td>2021-03-13</td>\n",
       "      <td>145 NICKEL STREET</td>\n",
       "      <td>BOULDER</td>\n",
       "      <td>CO</td>\n",
       "      <td>80020</td>\n",
       "      <td>2018</td>\n",
       "    </tr>\n",
       "  </tbody>\n",
       "</table>\n",
       "</div>"
      ],
      "text/plain": [
       "     ObjectId       DOING BUSINESS AS License_Effective_Date NAICS_Code  \\\n",
       "364     13371      WHOLE FOODS MARKET             1998-02-01   '01-5411   \n",
       "368     13371      WHOLE FOODS MARKET             1998-02-01   '01-5411   \n",
       "374     13371      WHOLE FOODS MARKET             1998-02-01   '01-5411   \n",
       "380     13537  WILD WOODS BREWERY INC             2012-08-01   '10-2082   \n",
       "387     13647                    iPIE             2018-03-03   '02-5812   \n",
       "\n",
       "      NAICS_Description Exempt        City State Zip_Code  \\\n",
       "364      GROCERY STORES     No     BOULDER    CO    80301   \n",
       "368      GROCERY STORES     No     BOULDER    CO    80301   \n",
       "374      GROCERY STORES     No     BOULDER    CO    80301   \n",
       "380  MALT BEVERAGES MFG     No     BOULDER    CO    80301   \n",
       "387       EATING PLACES     No  BROOMFIELD    CO    80020   \n",
       "\n",
       "                                         LICENSEE NAME      LICENSE #  \\\n",
       "364   WHOLE FOODS MARKET ROCKY MOUNTAIN / SOUTHWEST LP       04-00927   \n",
       "368  WHOLE FOODS MARKET ROCKY MOUNTAIN/ SOUTHWEST L.P.       04-00786   \n",
       "374     WHOLE FOODS MARKET ROCKY MOUNTAIN/SOUTHWEST LP       04-00882   \n",
       "380                             WILD WOODS BREWERY INC  28-73934-0001   \n",
       "387                                     INFINITUS, INC       03-01070   \n",
       "\n",
       "                           LICENSE TYPE    EXPIRES  \\\n",
       "364  Fermented Malt Beverage Off (city) 2021-11-26   \n",
       "368  Fermented Malt Beverage Off (city) 2021-06-19   \n",
       "374  Fermented Malt Beverage Off (city) 2021-09-27   \n",
       "380        Wholesale Beer (malt liquor) 2021-03-31   \n",
       "387                  Beer & Wine (city) 2021-03-13   \n",
       "\n",
       "                     STREET ADDRESS     CITY STATE        ZIP  Year  \n",
       "364               2905 PEARL STREET  BOULDER    CO      80301  1998  \n",
       "368    7635 NORTH ACADEMY BOULEVARD  BOULDER    CO      80920  1998  \n",
       "374  5155 SOUTH WADSWORTH BOULEVARD  BOULDER    CO      80123  1998  \n",
       "380               5460 CONESTOGA CT  BOULDER    CO  803012724  2012  \n",
       "387               145 NICKEL STREET  BOULDER    CO      80020  2018  "
      ]
     },
     "execution_count": 171,
     "metadata": {},
     "output_type": "execute_result"
    }
   ],
   "source": [
    "combined_boulder_df.tail()"
   ]
  },
  {
   "cell_type": "markdown",
   "metadata": {},
   "source": [
    "I wanted to create a separate column so I could sort out the year the licenses became active so I could put it in a graph."
   ]
  },
  {
   "cell_type": "code",
   "execution_count": 165,
   "metadata": {},
   "outputs": [
    {
     "data": {
      "text/plain": [
       "Text(0, 0.5, 'Licenses')"
      ]
     },
     "execution_count": 165,
     "metadata": {},
     "output_type": "execute_result"
    },
    {
     "data": {
      "image/png": "[encoded data removed]",
      "text/plain": [
       "<Figure size 432x288 with 1 Axes>"
      ]
     },
     "metadata": {
      "needs_background": "light"
     },
     "output_type": "display_data"
    }
   ],
   "source": [
    "year_plot = combined_boulder_df['Year'].value_counts(sort = False)\n",
    "year_plot.plot(kind = 'bar')\n",
    "plt.title('Number of Liquor Licenses Added')\n",
    "plt.xlabel('Year')\n",
    "plt.ylabel('Licenses')"
   ]
  },
  {
   "cell_type": "markdown",
   "metadata": {},
   "source": [
    "This graph shows how many liquor licenses were added per year. It is very important to note that this is NOT the totals per year. There is positive growth overall and almost every year has had a license added. "
   ]
  },
  {
   "cell_type": "code",
   "execution_count": 148,
   "metadata": {},
   "outputs": [],
   "source": [
    "admissions_df = pd.read_csv('CU Boulder Admissions Since 1991.csv')"
   ]
  },
  {
   "cell_type": "markdown",
   "metadata": {},
   "source": [
    "admissions_df is the dataset from CU Boulder's student population. The total row will be the most useful for me because I am comparing amount of college students. I can see there is an overall increase in student pop, but there is a drop between 2019 and 2020, which could be related to COVID."
   ]
  },
  {
   "cell_type": "code",
   "execution_count": 150,
   "metadata": {},
   "outputs": [],
   "source": [
    "new_admissions_df = admissions_df.drop(columns = ['College'])"
   ]
  },
  {
   "cell_type": "code",
   "execution_count": 151,
   "metadata": {},
   "outputs": [],
   "source": [
    "admissions_final_df = new_admissions_df.set_index('Type')"
   ]
  },
  {
   "cell_type": "code",
   "execution_count": 153,
   "metadata": {},
   "outputs": [],
   "source": [
    "#https://stackoverflow.com/questions/56947333/how-to-remove-commas-from-all-the-column-in-pandas-at-once\n",
    "admissions_final_df = admissions_final_df.replace(',','', regex=True)"
   ]
  },
  {
   "cell_type": "code",
   "execution_count": 154,
   "metadata": {},
   "outputs": [
    {
     "data": {
      "text/html": [
       "<div>\n",
       "<style scoped>\n",
       "    .dataframe tbody tr th:only-of-type {\n",
       "        vertical-align: middle;\n",
       "    }\n",
       "\n",
       "    .dataframe tbody tr th {\n",
       "        vertical-align: top;\n",
       "    }\n",
       "\n",
       "    .dataframe thead th {\n",
       "        text-align: right;\n",
       "    }\n",
       "</style>\n",
       "<table border=\"1\" class=\"dataframe\">\n",
       "  <thead>\n",
       "    <tr style=\"text-align: right;\">\n",
       "      <th></th>\n",
       "      <th>1991</th>\n",
       "      <th>1992</th>\n",
       "      <th>1993</th>\n",
       "      <th>1994</th>\n",
       "      <th>1995</th>\n",
       "      <th>1996</th>\n",
       "      <th>1997</th>\n",
       "      <th>1998</th>\n",
       "      <th>1999</th>\n",
       "      <th>2000</th>\n",
       "      <th>2001</th>\n",
       "      <th>2002</th>\n",
       "      <th>2003</th>\n",
       "      <th>2004</th>\n",
       "      <th>2005</th>\n",
       "      <th>2006</th>\n",
       "      <th>2007</th>\n",
       "      <th>2008</th>\n",
       "      <th>2009</th>\n",
       "      <th>2010</th>\n",
       "      <th>2011</th>\n",
       "      <th>2012</th>\n",
       "      <th>2013</th>\n",
       "      <th>2014</th>\n",
       "      <th>2015</th>\n",
       "      <th>2016</th>\n",
       "      <th>2017</th>\n",
       "      <th>2018</th>\n",
       "      <th>2019</th>\n",
       "      <th>2020</th>\n",
       "    </tr>\n",
       "    <tr>\n",
       "      <th>Type</th>\n",
       "      <th></th>\n",
       "      <th></th>\n",
       "      <th></th>\n",
       "      <th></th>\n",
       "      <th></th>\n",
       "      <th></th>\n",
       "      <th></th>\n",
       "      <th></th>\n",
       "      <th></th>\n",
       "      <th></th>\n",
       "      <th></th>\n",
       "      <th></th>\n",
       "      <th></th>\n",
       "      <th></th>\n",
       "      <th></th>\n",
       "      <th></th>\n",
       "      <th></th>\n",
       "      <th></th>\n",
       "      <th></th>\n",
       "      <th></th>\n",
       "      <th></th>\n",
       "      <th></th>\n",
       "      <th></th>\n",
       "      <th></th>\n",
       "      <th></th>\n",
       "      <th></th>\n",
       "      <th></th>\n",
       "      <th></th>\n",
       "      <th></th>\n",
       "      <th></th>\n",
       "    </tr>\n",
       "  </thead>\n",
       "  <tbody>\n",
       "    <tr>\n",
       "      <th>New frosh</th>\n",
       "      <td>3444</td>\n",
       "      <td>3604</td>\n",
       "      <td>3436</td>\n",
       "      <td>3603</td>\n",
       "      <td>4182</td>\n",
       "      <td>3952</td>\n",
       "      <td>4248</td>\n",
       "      <td>4281</td>\n",
       "      <td>4566</td>\n",
       "      <td>5095</td>\n",
       "      <td>4982</td>\n",
       "      <td>5391</td>\n",
       "      <td>5571</td>\n",
       "      <td>5138</td>\n",
       "      <td>5007</td>\n",
       "      <td>5617</td>\n",
       "      <td>5555</td>\n",
       "      <td>5833</td>\n",
       "      <td>5519</td>\n",
       "      <td>5160</td>\n",
       "      <td>5663</td>\n",
       "      <td>5469</td>\n",
       "      <td>5844</td>\n",
       "      <td>5869</td>\n",
       "      <td>6208</td>\n",
       "      <td>6439</td>\n",
       "      <td>6570</td>\n",
       "      <td>6701</td>\n",
       "      <td>7113</td>\n",
       "      <td>6326</td>\n",
       "    </tr>\n",
       "    <tr>\n",
       "      <th>Transfers</th>\n",
       "      <td>1759</td>\n",
       "      <td>1455</td>\n",
       "      <td>1755</td>\n",
       "      <td>1720</td>\n",
       "      <td>1431</td>\n",
       "      <td>1459</td>\n",
       "      <td>1491</td>\n",
       "      <td>1326</td>\n",
       "      <td>1436</td>\n",
       "      <td>1350</td>\n",
       "      <td>1386</td>\n",
       "      <td>1435</td>\n",
       "      <td>1474</td>\n",
       "      <td>1433</td>\n",
       "      <td>1301</td>\n",
       "      <td>1241</td>\n",
       "      <td>1297</td>\n",
       "      <td>1318</td>\n",
       "      <td>1358</td>\n",
       "      <td>1167</td>\n",
       "      <td>1300</td>\n",
       "      <td>1195</td>\n",
       "      <td>1292</td>\n",
       "      <td>1312</td>\n",
       "      <td>1119</td>\n",
       "      <td>1203</td>\n",
       "      <td>1440</td>\n",
       "      <td>1622</td>\n",
       "      <td>1555</td>\n",
       "      <td>1409</td>\n",
       "    </tr>\n",
       "    <tr>\n",
       "      <th>IUT's</th>\n",
       "      <td>761</td>\n",
       "      <td>862</td>\n",
       "      <td>722</td>\n",
       "      <td>774</td>\n",
       "      <td>687</td>\n",
       "      <td>820</td>\n",
       "      <td>841</td>\n",
       "      <td>880</td>\n",
       "      <td>857</td>\n",
       "      <td>936</td>\n",
       "      <td>810</td>\n",
       "      <td>935</td>\n",
       "      <td>830</td>\n",
       "      <td>831</td>\n",
       "      <td>843</td>\n",
       "      <td>825</td>\n",
       "      <td>774</td>\n",
       "      <td>785</td>\n",
       "      <td>802</td>\n",
       "      <td>820</td>\n",
       "      <td>843</td>\n",
       "      <td>845</td>\n",
       "      <td>783</td>\n",
       "      <td>875</td>\n",
       "      <td>936</td>\n",
       "      <td>1320</td>\n",
       "      <td>1421</td>\n",
       "      <td>1876</td>\n",
       "      <td>1555</td>\n",
       "      <td>1772</td>\n",
       "    </tr>\n",
       "    <tr>\n",
       "      <th>Contin/readm</th>\n",
       "      <td>14488</td>\n",
       "      <td>14104</td>\n",
       "      <td>14080</td>\n",
       "      <td>13631</td>\n",
       "      <td>13322</td>\n",
       "      <td>13594</td>\n",
       "      <td>13849</td>\n",
       "      <td>14089</td>\n",
       "      <td>14344</td>\n",
       "      <td>14302</td>\n",
       "      <td>15046</td>\n",
       "      <td>15693</td>\n",
       "      <td>16665</td>\n",
       "      <td>17308</td>\n",
       "      <td>17072</td>\n",
       "      <td>16801</td>\n",
       "      <td>16847</td>\n",
       "      <td>17144</td>\n",
       "      <td>17729</td>\n",
       "      <td>17659</td>\n",
       "      <td>16951</td>\n",
       "      <td>16683</td>\n",
       "      <td>16500</td>\n",
       "      <td>16762</td>\n",
       "      <td>16012</td>\n",
       "      <td>17471</td>\n",
       "      <td>18234</td>\n",
       "      <td>18557</td>\n",
       "      <td>19401</td>\n",
       "      <td>19471</td>\n",
       "    </tr>\n",
       "    <tr>\n",
       "      <th>New to campus</th>\n",
       "      <td>5203</td>\n",
       "      <td>5059</td>\n",
       "      <td>5191</td>\n",
       "      <td>5323</td>\n",
       "      <td>5613</td>\n",
       "      <td>5411</td>\n",
       "      <td>5739</td>\n",
       "      <td>5607</td>\n",
       "      <td>6002</td>\n",
       "      <td>6445</td>\n",
       "      <td>6368</td>\n",
       "      <td>6826</td>\n",
       "      <td>7045</td>\n",
       "      <td>6571</td>\n",
       "      <td>6308</td>\n",
       "      <td>6858</td>\n",
       "      <td>6852</td>\n",
       "      <td>7151</td>\n",
       "      <td>6877</td>\n",
       "      <td>6327</td>\n",
       "      <td>6963</td>\n",
       "      <td>6664</td>\n",
       "      <td>7136</td>\n",
       "      <td>7181</td>\n",
       "      <td>7327</td>\n",
       "      <td>7642</td>\n",
       "      <td>8010</td>\n",
       "      <td>8323</td>\n",
       "      <td>8668</td>\n",
       "      <td>7735</td>\n",
       "    </tr>\n",
       "    <tr>\n",
       "      <th>New to college</th>\n",
       "      <td>5964</td>\n",
       "      <td>5921</td>\n",
       "      <td>5913</td>\n",
       "      <td>6097</td>\n",
       "      <td>6300</td>\n",
       "      <td>6231</td>\n",
       "      <td>6580</td>\n",
       "      <td>6487</td>\n",
       "      <td>6859</td>\n",
       "      <td>7381</td>\n",
       "      <td>7178</td>\n",
       "      <td>7761</td>\n",
       "      <td>7875</td>\n",
       "      <td>7402</td>\n",
       "      <td>7151</td>\n",
       "      <td>7683</td>\n",
       "      <td>7626</td>\n",
       "      <td>7936</td>\n",
       "      <td>7679</td>\n",
       "      <td>7147</td>\n",
       "      <td>7806</td>\n",
       "      <td>7509</td>\n",
       "      <td>7919</td>\n",
       "      <td>8056</td>\n",
       "      <td>8263</td>\n",
       "      <td>8962</td>\n",
       "      <td>9431</td>\n",
       "      <td>10199</td>\n",
       "      <td>10223</td>\n",
       "      <td>9507</td>\n",
       "    </tr>\n",
       "    <tr>\n",
       "      <th>Total</th>\n",
       "      <td>20452</td>\n",
       "      <td>20025</td>\n",
       "      <td>19993</td>\n",
       "      <td>19728</td>\n",
       "      <td>19622</td>\n",
       "      <td>19825</td>\n",
       "      <td>20429</td>\n",
       "      <td>20576</td>\n",
       "      <td>21203</td>\n",
       "      <td>21683</td>\n",
       "      <td>22224</td>\n",
       "      <td>23454</td>\n",
       "      <td>24540</td>\n",
       "      <td>24710</td>\n",
       "      <td>24223</td>\n",
       "      <td>24484</td>\n",
       "      <td>24473</td>\n",
       "      <td>25080</td>\n",
       "      <td>25408</td>\n",
       "      <td>24806</td>\n",
       "      <td>24757</td>\n",
       "      <td>24192</td>\n",
       "      <td>24419</td>\n",
       "      <td>24818</td>\n",
       "      <td>24275</td>\n",
       "      <td>26433</td>\n",
       "      <td>27665</td>\n",
       "      <td>28756</td>\n",
       "      <td>29624</td>\n",
       "      <td>28978</td>\n",
       "    </tr>\n",
       "    <tr>\n",
       "      <th>Cum GPA of IUT's</th>\n",
       "      <td>2.96</td>\n",
       "      <td>2.98</td>\n",
       "      <td>3.01</td>\n",
       "      <td>2.99</td>\n",
       "      <td>2.99</td>\n",
       "      <td>3.02</td>\n",
       "      <td>2.97</td>\n",
       "      <td>3.00</td>\n",
       "      <td>3.07</td>\n",
       "      <td>3.10</td>\n",
       "      <td>3.11</td>\n",
       "      <td>3.17</td>\n",
       "      <td>3.16</td>\n",
       "      <td>3.19</td>\n",
       "      <td>3.20</td>\n",
       "      <td>3.17</td>\n",
       "      <td>3.20</td>\n",
       "      <td>3.15</td>\n",
       "      <td>3.11</td>\n",
       "      <td>3.09</td>\n",
       "      <td>3.10</td>\n",
       "      <td>3.09</td>\n",
       "      <td>3.06</td>\n",
       "      <td>3.08</td>\n",
       "      <td>3.06</td>\n",
       "      <td>3.09</td>\n",
       "      <td>3.13</td>\n",
       "      <td>3.10</td>\n",
       "      <td>3.21</td>\n",
       "      <td>3.24</td>\n",
       "    </tr>\n",
       "  </tbody>\n",
       "</table>\n",
       "</div>"
      ],
      "text/plain": [
       "                     1991     1992     1993     1994     1995     1996  \\\n",
       "Type                                                                     \n",
       "New frosh           3444     3604     3436     3603     4182     3952    \n",
       "Transfers           1759     1455     1755     1720     1431     1459    \n",
       "IUT's                761      862      722      774      687      820    \n",
       "Contin/readm       14488    14104    14080    13631    13322    13594    \n",
       "New to campus       5203     5059     5191     5323     5613     5411    \n",
       "New to college      5964     5921     5913     6097     6300     6231    \n",
       "Total              20452    20025    19993    19728    19622    19825    \n",
       "Cum GPA of IUT's     2.96     2.98     3.01     2.99     2.99     3.02   \n",
       "\n",
       "                     1997     1998     1999     2000     2001     2002  \\\n",
       "Type                                                                     \n",
       "New frosh           4248     4281     4566     5095     4982     5391    \n",
       "Transfers           1491     1326     1436     1350     1386     1435    \n",
       "IUT's                841      880      857      936      810      935    \n",
       "Contin/readm       13849    14089    14344    14302    15046    15693    \n",
       "New to campus       5739     5607     6002     6445     6368     6826    \n",
       "New to college      6580     6487     6859     7381     7178     7761    \n",
       "Total              20429    20576    21203    21683    22224    23454    \n",
       "Cum GPA of IUT's     2.97     3.00     3.07     3.10     3.11     3.17   \n",
       "\n",
       "                     2003     2004     2005     2006     2007     2008  \\\n",
       "Type                                                                     \n",
       "New frosh           5571     5138     5007     5617     5555     5833    \n",
       "Transfers           1474     1433     1301     1241     1297     1318    \n",
       "IUT's                830      831      843      825      774      785    \n",
       "Contin/readm       16665    17308    17072    16801    16847    17144    \n",
       "New to campus       7045     6571     6308     6858     6852     7151    \n",
       "New to college      7875     7402     7151     7683     7626     7936    \n",
       "Total              24540    24710    24223    24484    24473    25080    \n",
       "Cum GPA of IUT's     3.16     3.19     3.20     3.17     3.20     3.15   \n",
       "\n",
       "                     2009     2010     2011     2012     2013     2014  \\\n",
       "Type                                                                     \n",
       "New frosh           5519     5160     5663     5469     5844     5869    \n",
       "Transfers           1358     1167     1300     1195     1292     1312    \n",
       "IUT's                802      820      843      845      783      875    \n",
       "Contin/readm       17729    17659    16951    16683    16500    16762    \n",
       "New to campus       6877     6327     6963     6664     7136     7181    \n",
       "New to college      7679     7147     7806     7509     7919     8056    \n",
       "Total              25408    24806    24757    24192    24419    24818    \n",
       "Cum GPA of IUT's     3.11     3.09     3.10     3.09     3.06     3.08   \n",
       "\n",
       "                     2015     2016     2017     2018     2019     2020  \n",
       "Type                                                                    \n",
       "New frosh           6208     6439     6570     6701     7113     6326   \n",
       "Transfers           1119     1203     1440     1622     1555     1409   \n",
       "IUT's                936     1320     1421     1876     1555     1772   \n",
       "Contin/readm       16012    17471    18234    18557    19401    19471   \n",
       "New to campus       7327     7642     8010     8323     8668     7735   \n",
       "New to college      8263     8962     9431    10199    10223     9507   \n",
       "Total              24275    26433    27665    28756    29624    28978   \n",
       "Cum GPA of IUT's     3.06     3.09     3.13     3.10     3.21     3.24  "
      ]
     },
     "execution_count": 154,
     "metadata": {},
     "output_type": "execute_result"
    }
   ],
   "source": [
    "#admissions_final_df.astype(str).astype(int)\n",
    "admissions_final_df"
   ]
  },
  {
   "cell_type": "code",
   "execution_count": 155,
   "metadata": {},
   "outputs": [],
   "source": [
    "admissions_final_df = admissions_final_df.drop([\"Cum GPA of IUT's\"],axis=0)"
   ]
  },
  {
   "cell_type": "code",
   "execution_count": 157,
   "metadata": {},
   "outputs": [],
   "source": [
    "admissions_final_df = admissions_final_df.astype(str).astype(int)"
   ]
  },
  {
   "cell_type": "code",
   "execution_count": 159,
   "metadata": {},
   "outputs": [
    {
     "data": {
      "text/plain": [
       "Text(0, 0.5, 'Students')"
      ]
     },
     "execution_count": 159,
     "metadata": {},
     "output_type": "execute_result"
    },
    {
     "data": {
      "image/png": "[encoded data removed]",
      "text/plain": [
       "<Figure size 432x288 with 1 Axes>"
      ]
     },
     "metadata": {
      "needs_background": "light"
     },
     "output_type": "display_data"
    }
   ],
   "source": [
    "plot_total = admissions_final_df.iloc[6]\n",
    "plot_total.plot()\n",
    "plt.title('Total student population')\n",
    "plt.xlabel('Year')\n",
    "plt.ylabel('Students')"
   ]
  },
  {
   "cell_type": "markdown",
   "metadata": {},
   "source": [
    "This graph just shows the overall student population since 1991."
   ]
  },
  {
   "cell_type": "code",
   "execution_count": 160,
   "metadata": {},
   "outputs": [],
   "source": [
    "admissions_final_df.loc['Yearly Difference'] = admissions_final_df.iloc[6].diff()"
   ]
  },
  {
   "cell_type": "code",
   "execution_count": 162,
   "metadata": {},
   "outputs": [
    {
     "data": {
      "text/plain": [
       "Text(0, 0.5, 'Students')"
      ]
     },
     "execution_count": 162,
     "metadata": {},
     "output_type": "execute_result"
    },
    {
     "data": {
      "image/png": "[encoded data removed]",
      "text/plain": [
       "<Figure size 432x288 with 1 Axes>"
      ]
     },
     "metadata": {
      "needs_background": "light"
     },
     "output_type": "display_data"
    }
   ],
   "source": [
    "plot_yearly_diff = admissions_final_df.iloc[7]\n",
    "plot_yearly_diff.plot()\n",
    "plt.title('Change in Student Population')\n",
    "plt.xlabel('Year')\n",
    "plt.ylabel('Students')"
   ]
  },
  {
   "cell_type": "markdown",
   "metadata": {},
   "source": [
    "What we are looking at here is the difference in student population in comparison to the previous year. This is a really interesting graph because it shows both the decline and increase in student population every year. It makes me think that there will be an increase in places with liquor licenses around 2016 because there is such a jump.\n",
    "Statement of hypothesis: There will be an increase in active liquor licenses after 2016."
   ]
  },
  {
   "cell_type": "code",
   "execution_count": 215,
   "metadata": {},
   "outputs": [],
   "source": [
    "# https://pandas.pydata.org/pandas-docs/stable/reference/api/pandas.DataFrame.transpose.html\n",
    "transposed_admissions = admissions_final_df.T"
   ]
  },
  {
   "cell_type": "code",
   "execution_count": 216,
   "metadata": {},
   "outputs": [
    {
     "name": "stdout",
     "output_type": "stream",
     "text": [
      "Index(['1991', '1992', '1993', '1994', '1995', '1996', '1997', '1998', '1999',\n",
      "       '2000', '2001', '2002', '2003', '2004', '2005', '2006', '2007', '2008',\n",
      "       '2009', '2010', '2011', '2012', '2013', '2014', '2015', '2016', '2017',\n",
      "       '2018', '2019', '2020'],\n",
      "      dtype='object')\n"
     ]
    }
   ],
   "source": [
    "print(transposed_admissions.index)"
   ]
  },
  {
   "cell_type": "code",
   "execution_count": 217,
   "metadata": {},
   "outputs": [
    {
     "data": {
      "text/html": [
       "<div>\n",
       "<style scoped>\n",
       "    .dataframe tbody tr th:only-of-type {\n",
       "        vertical-align: middle;\n",
       "    }\n",
       "\n",
       "    .dataframe tbody tr th {\n",
       "        vertical-align: top;\n",
       "    }\n",
       "\n",
       "    .dataframe thead th {\n",
       "        text-align: right;\n",
       "    }\n",
       "</style>\n",
       "<table border=\"1\" class=\"dataframe\">\n",
       "  <thead>\n",
       "    <tr style=\"text-align: right;\">\n",
       "      <th>Type</th>\n",
       "      <th>New frosh</th>\n",
       "      <th>Transfers</th>\n",
       "      <th>IUT's</th>\n",
       "      <th>Contin/readm</th>\n",
       "      <th>New to campus</th>\n",
       "      <th>New to college</th>\n",
       "      <th>Total</th>\n",
       "      <th>Yearly Difference</th>\n",
       "    </tr>\n",
       "  </thead>\n",
       "  <tbody>\n",
       "    <tr>\n",
       "      <th>1992</th>\n",
       "      <td>3604.0</td>\n",
       "      <td>1455.0</td>\n",
       "      <td>862.0</td>\n",
       "      <td>14104.0</td>\n",
       "      <td>5059.0</td>\n",
       "      <td>5921.0</td>\n",
       "      <td>20025.0</td>\n",
       "      <td>-427.0</td>\n",
       "    </tr>\n",
       "    <tr>\n",
       "      <th>1993</th>\n",
       "      <td>3436.0</td>\n",
       "      <td>1755.0</td>\n",
       "      <td>722.0</td>\n",
       "      <td>14080.0</td>\n",
       "      <td>5191.0</td>\n",
       "      <td>5913.0</td>\n",
       "      <td>19993.0</td>\n",
       "      <td>-32.0</td>\n",
       "    </tr>\n",
       "    <tr>\n",
       "      <th>1994</th>\n",
       "      <td>3603.0</td>\n",
       "      <td>1720.0</td>\n",
       "      <td>774.0</td>\n",
       "      <td>13631.0</td>\n",
       "      <td>5323.0</td>\n",
       "      <td>6097.0</td>\n",
       "      <td>19728.0</td>\n",
       "      <td>-265.0</td>\n",
       "    </tr>\n",
       "    <tr>\n",
       "      <th>1995</th>\n",
       "      <td>4182.0</td>\n",
       "      <td>1431.0</td>\n",
       "      <td>687.0</td>\n",
       "      <td>13322.0</td>\n",
       "      <td>5613.0</td>\n",
       "      <td>6300.0</td>\n",
       "      <td>19622.0</td>\n",
       "      <td>-106.0</td>\n",
       "    </tr>\n",
       "    <tr>\n",
       "      <th>1996</th>\n",
       "      <td>3952.0</td>\n",
       "      <td>1459.0</td>\n",
       "      <td>820.0</td>\n",
       "      <td>13594.0</td>\n",
       "      <td>5411.0</td>\n",
       "      <td>6231.0</td>\n",
       "      <td>19825.0</td>\n",
       "      <td>203.0</td>\n",
       "    </tr>\n",
       "  </tbody>\n",
       "</table>\n",
       "</div>"
      ],
      "text/plain": [
       "Type  New frosh  Transfers  IUT's  Contin/readm  New to campus  \\\n",
       "1992     3604.0     1455.0  862.0       14104.0         5059.0   \n",
       "1993     3436.0     1755.0  722.0       14080.0         5191.0   \n",
       "1994     3603.0     1720.0  774.0       13631.0         5323.0   \n",
       "1995     4182.0     1431.0  687.0       13322.0         5613.0   \n",
       "1996     3952.0     1459.0  820.0       13594.0         5411.0   \n",
       "\n",
       "Type  New to college    Total  Yearly Difference  \n",
       "1992          5921.0  20025.0             -427.0  \n",
       "1993          5913.0  19993.0              -32.0  \n",
       "1994          6097.0  19728.0             -265.0  \n",
       "1995          6300.0  19622.0             -106.0  \n",
       "1996          6231.0  19825.0              203.0  "
      ]
     },
     "execution_count": 217,
     "metadata": {},
     "output_type": "execute_result"
    }
   ],
   "source": [
    "transposed_admissions = transposed_admissions.drop('1991',axis=0)"
   ]
  },
  {
   "cell_type": "markdown",
   "metadata": {},
   "source": [
    "When graphing this data, I kept running into problems because 1991 had an NaN, so I just decided to drop the 1991 row."
   ]
  },
  {
   "cell_type": "code",
   "execution_count": 228,
   "metadata": {},
   "outputs": [
    {
     "data": {
      "text/plain": [
       "Text(0, 0.5, 'Students')"
      ]
     },
     "execution_count": 228,
     "metadata": {},
     "output_type": "execute_result"
    },
    {
     "data": {
      "image/png": "[encoded data removed]",
      "text/plain": [
       "<Figure size 432x288 with 1 Axes>"
      ]
     },
     "metadata": {
      "needs_background": "light"
     },
     "output_type": "display_data"
    }
   ],
   "source": [
    "transposed_graph = transposed_admissions['Yearly Difference']\n",
    "transposed_graph.plot(kind = 'bar')\n",
    "plt.title('Change in Student Population')\n",
    "plt.xlabel('Year')\n",
    "plt.ylabel('Students')"
   ]
  },
  {
   "cell_type": "code",
   "execution_count": 261,
   "metadata": {},
   "outputs": [
    {
     "data": {
      "text/plain": [
       "Text(0, 0.5, 'Licenses')"
      ]
     },
     "execution_count": 261,
     "metadata": {},
     "output_type": "execute_result"
    },
    {
     "data": {
      "image/png": "[encoded data removed]",
      "text/plain": [
       "<Figure size 432x288 with 1 Axes>"
      ]
     },
     "metadata": {
      "needs_background": "light"
     },
     "output_type": "display_data"
    }
   ],
   "source": [
    "year_plot = combined_boulder_df['Year'].value_counts(sort = False)\n",
    "year_plot.plot(kind = 'bar')\n",
    "plt.title('Number of Liquor Licenses Added')\n",
    "plt.xlabel('Year')\n",
    "plt.ylabel('Licenses')"
   ]
  },
  {
   "cell_type": "code",
   "execution_count": 264,
   "metadata": {},
   "outputs": [
    {
     "data": {
      "image/png": "[encoded data removed]",
      "text/plain": [
       "<Figure size 720x288 with 2 Axes>"
      ]
     },
     "metadata": {
      "needs_background": "light"
     },
     "output_type": "display_data"
    }
   ],
   "source": [
    "fig, (ax1,ax2) = plt.subplots(1,2, figsize=(10,4))  # 1 row, 2 columns\n",
    "transposed_graph.plot(kind = 'bar', ax=ax1)\n",
    "year_plot.plot(kind = 'bar', ax=ax2)\n",
    "\n",
    "plt.title('Number of Liquor Licenses Added')\n",
    "plt.xlabel('Year')\n",
    "plt.ylabel('Licenses')\n",
    "\n",
    "plt.tight_layout()"
   ]
  },
  {
   "cell_type": "markdown",
   "metadata": {},
   "source": [
    "I put this just to reiterate so that I can compare the two graphs. I tried a lot of ways to combine the graphs, but I could never figure out how to align the x-axis because the values were not exact. Anyway, this is still fine for me because I wanted to compare changes in student population and liquor licenses. So on the left, we are looking at transposed_graph, which is the changes in student population yearly. This graph is nice because we can see when there are big jumps in the student population. The graph on the right, which is year_plot is also nice because we can look at the increase in liquor licenses yearly and this graph makes is VERY obvious when there are jumps. \n",
    "From transposed_graph, the first thing to notice is the increase in student population between 1995-1997. There is a relatively significant increase. In comparison to year_plot, we see a gigantic increase in liquor licenses. In fact, it was the biggest increase we can see since 1971. Honestly, I am not 100% convinced that these are directly related since the student population did not increase by that much, but there is definitely a strong correlation because 1998 was the year after a relatively big jump in student population. When looking at getting a liquor license, the young population is definitely important because college kids are very likely to go out and party. \n",
    "However, we do not see a big jump in the amount of liquor licenses again until 2017. This is what I predicted initially because I saw that big jump between student population between 2015-2016. Naturally, that is when i predicted a big jump, which I do think those are directly related. There were definitely limitations to this project. I would have liked to see all of the liquor licenses administered. However, the dataset that I found only showed active ones, which makes sense, but it would be interesting to see if that was also correlated. Another reason I would have liked that is because if I had decided to look at the amount of liquor licenses yearly, there would only have been an increase because I would not be able to see if any expired and were not renewed or those taken away. \n",
    "Overall, there was definitely a positive correlation between the amount of liquor licenses administered and the increase in student popoulation. The biggest indicator of this for me is that the year after there were jumps in student population, there were jumps in the amount of liquor licenses. So, I would say that the young population is pretty essential to alcohol sales. "
   ]
  },
  {
   "cell_type": "code",
   "execution_count": null,
   "metadata": {},
   "outputs": [],
   "source": []
  }
 ],
 "metadata": {
  "kernelspec": {
   "display_name": "Python 3",
   "language": "python",
   "name": "python3"
  },
  "language_info": {
   "codemirror_mode": {
    "name": "ipython",
    "version": 3
   },
   "file_extension": ".py",
   "mimetype": "text/x-python",
   "name": "python",
   "nbconvert_exporter": "python",
   "pygments_lexer": "ipython3",
   "version": "3.7.9"
  }
 },
 "nbformat": 4,
 "nbformat_minor": 4
}
